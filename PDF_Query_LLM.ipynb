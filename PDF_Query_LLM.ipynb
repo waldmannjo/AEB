{
 "cells": [
  {
   "attachments": {},
   "cell_type": "markdown",
   "metadata": {},
   "source": [
    "Source: https://www.youtube.com/watch?v=TLf90ipMzfE"
   ]
  },
  {
   "cell_type": "code",
   "execution_count": null,
   "metadata": {},
   "outputs": [],
   "source": [
    "from PyPDF2 import PdfReader\n",
    "from langchain.embeddings.openai import OpenAIEmbeddings\n",
    "from langchain.text_splitter import CharacterTextSplitter\n",
    "from langchain.vectorstores import ElasticVectorSearch, Pinecone, Weaviate, FAISS"
   ]
  },
  {
   "cell_type": "code",
   "execution_count": null,
   "metadata": {},
   "outputs": [],
   "source": [
    "from dotenv import load_dotenv\n",
    "load_dotenv()"
   ]
  },
  {
   "cell_type": "code",
   "execution_count": null,
   "metadata": {},
   "outputs": [],
   "source": [
    "import certifi, os, ssl, requests\n",
    "\n",
    "custom_ca_filepath = r\"\\\\pmbelz.de\\general\\SYS\\Certificates\\AEB RootCA v2.pem\"\n",
    "\n",
    "\n",
    "os.environ['REQUESTS_CA_BUNDLE'] = custom_ca_filepath\n",
    "\n",
    "\n",
    "if hasattr(ssl, 'create_default_context'):\n",
    "    ssl_context = ssl.create_default_context(cafile=certifi.where())\n",
    "    ssl_context.load_verify_locations(cafile=custom_ca_filepath)\n",
    "    requests.packages.urllib3.util.ssl_.create_default_context = lambda: ssl_context"
   ]
  },
  {
   "cell_type": "code",
   "execution_count": null,
   "metadata": {},
   "outputs": [],
   "source": [
    "import tkinter as tk\n",
    "from tkinter import filedialog\n",
    "\n",
    "def pick_file():\n",
    "    root = tk.Tk()\n",
    "    # root.withdraw()\n",
    "    file_path = filedialog.askopenfilename()\n",
    "    return file_path\n",
    "\n",
    "# location of the pdf file/files. \n",
    "# reader = pick_file()"
   ]
  },
  {
   "cell_type": "code",
   "execution_count": null,
   "metadata": {},
   "outputs": [],
   "source": [
    "new_file = pick_file()"
   ]
  },
  {
   "cell_type": "code",
<<<<<<< HEAD
   "execution_count": null,
=======
   "execution_count": 7,
   "metadata": {},
   "outputs": [
    {
     "ename": "AttributeError",
     "evalue": "'str' object has no attribute 'pages'",
     "output_type": "error",
     "traceback": [
      "\u001b[1;31m---------------------------------------------------------------------------\u001b[0m",
      "\u001b[1;31mAttributeError\u001b[0m                            Traceback (most recent call last)",
      "Cell \u001b[1;32mIn[7], line 3\u001b[0m\n\u001b[0;32m      1\u001b[0m \u001b[39m# read data from the file and put them into a variable called raw_text\u001b[39;00m\n\u001b[0;32m      2\u001b[0m raw_text \u001b[39m=\u001b[39m \u001b[39m'\u001b[39m\u001b[39m'\u001b[39m\n\u001b[1;32m----> 3\u001b[0m \u001b[39mfor\u001b[39;00m i, page \u001b[39min\u001b[39;00m \u001b[39menumerate\u001b[39m(reader\u001b[39m.\u001b[39;49mpages):\n\u001b[0;32m      4\u001b[0m     text \u001b[39m=\u001b[39m page\u001b[39m.\u001b[39mextract_text()\n\u001b[0;32m      5\u001b[0m     \u001b[39mif\u001b[39;00m text:\n",
      "\u001b[1;31mAttributeError\u001b[0m: 'str' object has no attribute 'pages'"
     ]
    }
   ],
   "source": [
    "# read data from the file and put them into a variable called raw_text\n",
    "raw_text = ''\n",
    "for i, page in enumerate(reader.pages):\n",
    "    text = page.extract_text()\n",
    "    if text:\n",
    "        raw_text += text"
   ]
  },
  {
   "cell_type": "code",
   "execution_count": 27,
>>>>>>> 9cee1bcb4981cfa2fd4b043c76e0809cb93bf014
   "metadata": {},
   "outputs": [],
   "source": [
    "import PyPDF2\n",
    "\n",
    "# Open the PDF file in read-binary mode\n",
    "with open(pick_file(), 'rb') as file:\n",
    "    # Create a PyPDF2 PdfFileReader object\n",
    "    reader = PyPDF2.PdfReader(file)\n",
    "\n",
    "    # Read the text from each page and append it to the raw_text variable\n",
    "    raw_text = ''\n",
    "    for i in range(len(reader.pages)):\n",
    "        page = reader.pages[i]\n",
    "        text = page.extract_text()\n",
    "        if text:\n",
    "            raw_text += text\n"
   ]
  },
  {
   "cell_type": "code",
<<<<<<< HEAD
   "execution_count": null,
   "metadata": {},
   "outputs": [],
=======
   "execution_count": 28,
   "metadata": {},
   "outputs": [
    {
     "data": {
      "text/plain": [
       "'UPS EMEA (English version)\\nInhaltsverzeichnis / Content\\n1 General information\\n2 Special features\\n3 A'"
      ]
     },
     "execution_count": 28,
     "metadata": {},
     "output_type": "execute_result"
    }
   ],
>>>>>>> 9cee1bcb4981cfa2fd4b043c76e0809cb93bf014
   "source": [
    "# Open the txt file in read mode\n",
    "with open(pick_file(), 'r') as file:\n",
    "    # Read the text from the file and store it in the raw_text variable\n",
    "    raw_text = file.read()"
   ]
  },
  {
   "cell_type": "code",
<<<<<<< HEAD
   "execution_count": null,
   "metadata": {},
   "outputs": [],
   "source": [
    "import csv, json\n",
    "with open(pick_file(), 'r', encoding='utf-8') as file:\n",
    "    # create a CSV reader object\n",
    "    reader = csv.DictReader(file)\n",
    "    \n",
    "    # iterate over the rows in the CSV file and store them in a list\n",
    "    rows = []\n",
    "    for row in reader:\n",
    "        rows.append(row)\n",
    "\n",
    "    # convert list of dictionaries to JSON-formatted string\n",
    "    raw_text = json.dumps(rows)"
   ]
  },
  {
   "cell_type": "code",
   "execution_count": null,
   "metadata": {},
   "outputs": [],
   "source": [
    "raw_text[:200]"
   ]
  },
  {
   "cell_type": "code",
   "execution_count": null,
   "metadata": {},
   "outputs": [],
   "source": [
    "raw_text.replace(\";\",\"\")"
   ]
  },
  {
   "cell_type": "code",
   "execution_count": null,
   "metadata": {},
   "outputs": [
    {
     "ename": "",
     "evalue": "",
     "output_type": "error",
     "traceback": [
      "\u001b[1;31mThe Kernel crashed while executing code in the the current cell or a previous cell. Please review the code in the cell(s) to identify a possible cause of the failure. Click <a href='https://aka.ms/vscodeJupyterKernelCrash'>here</a> for more info. View Jupyter <a href='command:jupyter.viewOutput'>log</a> for further details."
     ]
    }
   ],
   "source": [
    "with open(\"output.txt\", \"w\") as file:\n",
    "    json.dump(raw_text.replace(\";\",\"\"), file, ensure_ascii=False)"
   ]
  },
  {
   "cell_type": "code",
   "execution_count": null,
=======
   "execution_count": 29,
>>>>>>> 9cee1bcb4981cfa2fd4b043c76e0809cb93bf014
   "metadata": {},
   "outputs": [],
   "source": [
    "# We need to split the text that we read into smaller chunks so that during information retreival we don't hit the token size limits. \n",
    "\n",
    "text_splitter = CharacterTextSplitter(        \n",
    "    separator = \"\\n\",\n",
    "    chunk_size = 1000,\n",
    "    chunk_overlap  = 200,\n",
    "    length_function = len,\n",
    ")\n",
    "texts = text_splitter.split_text(raw_text)"
   ]
  },
  {
   "cell_type": "code",
<<<<<<< HEAD
   "execution_count": null,
   "metadata": {},
   "outputs": [],
=======
   "execution_count": 30,
   "metadata": {},
   "outputs": [
    {
     "data": {
      "text/plain": [
       "89"
      ]
     },
     "execution_count": 30,
     "metadata": {},
     "output_type": "execute_result"
    }
   ],
>>>>>>> 9cee1bcb4981cfa2fd4b043c76e0809cb93bf014
   "source": [
    "len(texts)"
   ]
  },
  {
   "cell_type": "code",
<<<<<<< HEAD
   "execution_count": null,
   "metadata": {},
   "outputs": [],
=======
   "execution_count": 31,
   "metadata": {},
   "outputs": [
    {
     "data": {
      "text/plain": [
       "'UPS EMEA (English version)\\nInhaltsverzeichnis / Content\\n1 General information\\n2 Special features\\n3 Account master data\\n3.1 Account\\n4 Tracking\\n5 Webservices for Dangerous Goods\\n5.1 Partner server connection: Hazardous Goods (since FP 08/2017)\\n5.2 Partner server connection: Pre Notification\\n5.2.1 Access data for the dangerous goods web services\\n6 Webservices for Paperless Document API\\n6.1 Partner server connection: Paperless Document API\\n7 Webservices for Access Point Locator\\n7.1 Partner server connection: Access Point Locator\\n8 EDI\\n8.1 EDI format\\n8.2 EDI definition parameter\\n8.3 EDI upload parameter\\n9 UPS EMUS (separate account)\\n9.1 Requirements:\\n9.2 EMUS-Account\\n9.3 EMUS-EDI\\n9.3.1 EMUS Shipment-EDI (UPS_EMUS_SHIPMENT)\\n9.3.2 EMUS Pickup-EDI (UPS_EMUS_PICKUP)\\n9.3.3 UPS Standard PLD (UPS_STANDARD_PLD)\\n9.3.4 EMUS SFTP-Connections\\n10 UPS World Ease\\n10.1 General requirements\\n10.2 General process overview\\n10.3 Requirements Master-Shipment\\n10.4 Requirements Child-Shipment'"
      ]
     },
     "execution_count": 31,
     "metadata": {},
     "output_type": "execute_result"
    }
   ],
>>>>>>> 9cee1bcb4981cfa2fd4b043c76e0809cb93bf014
   "source": [
    "texts[0]"
   ]
  },
  {
   "cell_type": "code",
<<<<<<< HEAD
   "execution_count": null,
=======
   "execution_count": 32,
>>>>>>> 9cee1bcb4981cfa2fd4b043c76e0809cb93bf014
   "metadata": {},
   "outputs": [],
   "source": [
    "# Download embeddings from OpenAI\n",
    "embeddings = OpenAIEmbeddings()"
   ]
  },
  {
   "cell_type": "code",
<<<<<<< HEAD
   "execution_count": null,
=======
   "execution_count": 33,
>>>>>>> 9cee1bcb4981cfa2fd4b043c76e0809cb93bf014
   "metadata": {},
   "outputs": [],
   "source": [
    "docsearch = FAISS.from_texts(texts, embeddings)"
   ]
  },
  {
   "cell_type": "code",
<<<<<<< HEAD
   "execution_count": null,
   "metadata": {},
   "outputs": [],
=======
   "execution_count": 34,
   "metadata": {},
   "outputs": [
    {
     "data": {
      "text/plain": [
       "<langchain.vectorstores.faiss.FAISS at 0x1eba8178d50>"
      ]
     },
     "execution_count": 34,
     "metadata": {},
     "output_type": "execute_result"
    }
   ],
>>>>>>> 9cee1bcb4981cfa2fd4b043c76e0809cb93bf014
   "source": [
    "docsearch"
   ]
  },
  {
   "cell_type": "code",
<<<<<<< HEAD
   "execution_count": null,
=======
   "execution_count": 35,
>>>>>>> 9cee1bcb4981cfa2fd4b043c76e0809cb93bf014
   "metadata": {},
   "outputs": [],
   "source": [
    "from langchain.chains.question_answering import load_qa_chain\n",
    "from langchain.llms import OpenAI"
   ]
  },
  {
   "cell_type": "code",
<<<<<<< HEAD
   "execution_count": null,
=======
   "execution_count": 36,
>>>>>>> 9cee1bcb4981cfa2fd4b043c76e0809cb93bf014
   "metadata": {},
   "outputs": [],
   "source": [
    "chain = load_qa_chain(OpenAI(), chain_type=\"stuff\")"
   ]
  },
  {
   "cell_type": "code",
<<<<<<< HEAD
   "execution_count": null,
   "metadata": {},
   "outputs": [],
   "source": [
    "query = input(\"Question: \")\n",
=======
   "execution_count": 40,
   "metadata": {},
   "outputs": [
    {
     "data": {
      "text/plain": [
       "' The additional service \"Paperless Invoice (Additional documents)\" must be activated.'"
      ]
     },
     "execution_count": 40,
     "metadata": {},
     "output_type": "execute_result"
    }
   ],
   "source": [
    "query = input()\n",
>>>>>>> 9cee1bcb4981cfa2fd4b043c76e0809cb93bf014
    "docs = docsearch.similarity_search(query)\n",
    "chain.run(input_documents=docs, question=query)"
   ]
  }
 ],
 "metadata": {
  "kernelspec": {
   "display_name": ".venv",
   "language": "python",
   "name": "python3"
  },
  "language_info": {
   "codemirror_mode": {
    "name": "ipython",
    "version": 3
   },
   "file_extension": ".py",
   "mimetype": "text/x-python",
   "name": "python",
   "nbconvert_exporter": "python",
   "pygments_lexer": "ipython3",
   "version": "3.11.2"
  },
  "orig_nbformat": 4
 },
 "nbformat": 4,
 "nbformat_minor": 2
}
